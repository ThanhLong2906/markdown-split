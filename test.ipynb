{
 "cells": [
  {
   "cell_type": "code",
   "execution_count": 4,
   "metadata": {},
   "outputs": [
    {
     "name": "stdout",
     "output_type": "stream",
     "text": [
      "The autoreload extension is already loaded. To reload it, use:\n",
      "  %reload_ext autoreload\n"
     ]
    }
   ],
   "source": [
    "%load_ext autoreload\n",
    "%autoreload 2"
   ]
  },
  {
   "cell_type": "code",
   "execution_count": 5,
   "metadata": {},
   "outputs": [],
   "source": [
    "from pathlib import Path\n",
    "import glob\n",
    "\n",
    "docx_path = \"./docs/Heading1.docx\"\n",
    "filename = Path(docx_path).stem \n",
    "header_folder = \"./header/\"\n",
    "heading_folder = \"./heading/\""
   ]
  },
  {
   "cell_type": "markdown",
   "metadata": {},
   "source": [
    "## Split by header"
   ]
  },
  {
   "cell_type": "code",
   "execution_count": 6,
   "metadata": {},
   "outputs": [],
   "source": [
    "# split by header\n",
    "import aspose.words as aw\n",
    "\n",
    "# load Word document\n",
    "doc = aw.Document(docx_path)\n",
    "\n",
    "for i in range(0, doc.sections.count) :\n",
    "            \n",
    "    # clone the section to split\n",
    "    section = doc.sections[i].clone()\n",
    "\n",
    "    # create an instance of Document class for new doucment\n",
    "    newDoc = aw.Document()\n",
    "    \n",
    "    # clear the default sections\n",
    "    newDoc.sections.clear()\n",
    "\n",
    "    # inster section into new document\n",
    "    newSection = newDoc.import_node(section, True).as_section()\n",
    "    newDoc.sections.add(newSection)\n",
    "\n",
    "    # Save section as a separate document\n",
    "    newDoc.save(header_folder + f\"split_by_headers_{i}.docx\")"
   ]
  },
  {
   "cell_type": "code",
   "execution_count": 7,
   "metadata": {},
   "outputs": [],
   "source": [
    "# convert from docx -> markdown\n",
    "\n",
    "for name in glob.glob(header_folder + \"*.docx\"):\n",
    "    doc = aw.Document(name)\n",
    "    file_name = Path(name).stem\n",
    "    doc.save(header_folder + file_name +\".md\")"
   ]
  },
  {
   "cell_type": "code",
   "execution_count": null,
   "metadata": {},
   "outputs": [],
   "source": [
    "# To split chunks by heading for each markdown file, run this script:\n",
    "# mdsplit file.md --max-level 2 --output out\n",
    "# while:\n",
    "# file.md: markdown file splited\n",
    "# --max-level: lowest level of heading in markdown file\n",
    "# --output: output folder (each markdown file has a new folder)"
   ]
  },
  {
   "cell_type": "markdown",
   "metadata": {},
   "source": [
    "## Split by heading"
   ]
  },
  {
   "cell_type": "code",
   "execution_count": 8,
   "metadata": {},
   "outputs": [
    {
     "data": {
      "text/plain": [
       "<aspose.words.saving.SaveOutputParameters object at 0x0000026E5A44B950>"
      ]
     },
     "execution_count": 8,
     "metadata": {},
     "output_type": "execute_result"
    }
   ],
   "source": [
    "# split by heading, save in html type\n",
    "\n",
    "doc = aw.Document(docx_path)\n",
    "\n",
    "options = aw.saving.HtmlSaveOptions()\n",
    "#split a document into smaller parts, in this instance split by heading\n",
    "options.document_split_criteria = aw.saving.DocumentSplitCriteria.HEADING_PARAGRAPH\n",
    "doc.save(heading_folder + filename + \".html\", options)"
   ]
  },
  {
   "cell_type": "code",
   "execution_count": 5,
   "metadata": {},
   "outputs": [],
   "source": [
    "# convert from html to markdown\n",
    "\n",
    "for name in glob.glob(heading_folder + \"*.html\"):\n",
    "    md = aw.Document(name)\n",
    "    md_name = Path(name).stem\n",
    "    md.save(heading_folder + md_name + \".md\")"
   ]
  },
  {
   "cell_type": "code",
   "execution_count": 7,
   "metadata": {},
   "outputs": [],
   "source": [
    "# remove aspose text\n",
    "aspose_text = \"**an evaluation copy of  To discover the full versions of our APIs please visit: https://products.aspose.com/words/**\" #\"**Evaluation Only. Created with Aspose.Words. Copyright 2003-2023 Aspose Pty Ltd.**\"\n",
    "text_list = aspose_text.split()\n",
    "for name in glob.glob(heading_folder+\"*.md\"):\n",
    "    with open(name, 'r') as f:\n",
    "        lst = []\n",
    "        for line in f: \n",
    "            for word in text_list:\n",
    "                if word in line:\n",
    "                    line = line.replace(word, '')\n",
    "            lst.append(line)\n",
    "    with open(name, 'w') as file:\n",
    "        for line in lst:\n",
    "            file.write(line)"
   ]
  }
 ],
 "metadata": {
  "kernelspec": {
   "display_name": "IR",
   "language": "python",
   "name": "python3"
  },
  "language_info": {
   "codemirror_mode": {
    "name": "ipython",
    "version": 3
   },
   "file_extension": ".py",
   "mimetype": "text/x-python",
   "name": "python",
   "nbconvert_exporter": "python",
   "pygments_lexer": "ipython3",
   "version": "3.9.16"
  },
  "orig_nbformat": 4
 },
 "nbformat": 4,
 "nbformat_minor": 2
}
